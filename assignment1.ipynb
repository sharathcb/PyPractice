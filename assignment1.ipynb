{
 "cells": [
  {
   "cell_type": "code",
   "execution_count": 27,
   "metadata": {},
   "outputs": [
    {
     "name": "stdout",
     "output_type": "stream",
     "text": [
      "2002,2009,2016,2023,2037,2044,2051,2058,2072,2079,2086,2093,2107,2114,2121,2128,2142,2149,2156,2163,2177,2184,2191,2198,2212,2219,2226,2233,2247,2254,2261,2268,2282,2289,2296,2303,2317,2324,2331,2338,2352,2359,2366,2373,2387,2394,2401,2408,2422,2429,2436,2443,2457,2464,2471,2478,2492,2499,2506,2513,2527,2534,2541,2548,2562,2569,2576,2583,2597,2604,2611,2618,2632,2639,2646,2653,2667,2674,2681,2688,2702,2709,2716,2723,2737,2744,2751,2758,2772,2779,2786,2793,2807,2814,2821,2828,2842,2849,2856,2863,2877,2884,2891,2898,2912,2919,2926,2933,2947,2954,2961,2968,2982,2989,2996,3003,3017,3024,3031,3038,3052,3059,3066,3073,3087,3094,3101,3108,3122,3129,3136,3143,3157,3164,3171,3178,3192,3199\n"
     ]
    }
   ],
   "source": [
    "#problem : 1\n",
    "#numlist holds all the numbers between 2000 and 3200 (both included)\n",
    "numlist = list(range(2000,3201,1))\n",
    "templist = []\n",
    "\n",
    "for i in numlist:\n",
    "    count = count + 1\n",
    "    if i % 5 == 0:\n",
    "        continue\n",
    "    elif i % 7 == 0:\n",
    "        templist.append(i)\n",
    "\n",
    "# Below logic is only to print the identified  numbers in comma seperated in single line.\n",
    "length = len(templist)\n",
    "count = 0\n",
    "\n",
    "for i in templist:\n",
    "    count = count + 1\n",
    "    if count < length:\n",
    "        print(i,end=',')\n",
    "    else:\n",
    "        print(i)\n",
    "    \n"
   ]
  },
  {
   "cell_type": "code",
   "execution_count": 2,
   "metadata": {},
   "outputs": [
    {
     "name": "stdout",
     "output_type": "stream",
     "text": [
      "Please input your first name: Krishna\n",
      "Please input your last name: Prasad\n",
      "Prasad Krishna\n"
     ]
    }
   ],
   "source": [
    "firstname = input(\"Please input your first name: \")\n",
    "lastname =  input(\"Please input your last name: \")\n",
    "\n",
    "print(lastname + \" \" + firstname)"
   ]
  },
  {
   "cell_type": "code",
   "execution_count": 17,
   "metadata": {},
   "outputs": [
    {
     "name": "stdout",
     "output_type": "stream",
     "text": [
      "For sphere of diameter :12cm Volume is: 905.142857142857cm3\n"
     ]
    }
   ],
   "source": [
    "diameter = 12 #in cm\n",
    "radius = diameter/2\n",
    "#Volume of Sphere = 4/3*pi*r3 ; value of pi = 22/7\n",
    "pi = 22/7\n",
    "volume = (4/3)*(pi)*(radius*radius*radius)\n",
    "print(\"For sphere of diameter :\" + str(diameter) + \"cm \" + \"Volume is: \" + str(volume) + \"cm3\")"
   ]
  },
  {
   "cell_type": "code",
   "execution_count": 18,
   "metadata": {},
   "outputs": [
    {
     "name": "stdout",
     "output_type": "stream",
     "text": [
      "Provide comma seperated numbers1,2,3,4,5\n",
      "[1, 2, 3, 4, 5]\n"
     ]
    }
   ],
   "source": [
    "#Collect comma seperated number from user and create a list.\n",
    "instr = input(\"Provide comma seperated numbers\")\n",
    "numlist = []\n",
    "\n",
    "for i in instr:\n",
    "    if i == ',':\n",
    "        continue\n",
    "    else:\n",
    "        numlist.append(int(i))\n",
    "print(numlist)\n",
    "    \n",
    "\n"
   ]
  },
  {
   "cell_type": "code",
   "execution_count": 5,
   "metadata": {},
   "outputs": [
    {
     "name": "stdout",
     "output_type": "stream",
     "text": [
      "*\n",
      "**\n",
      "***\n",
      "****\n",
      "*****\n",
      "****\n",
      "***\n",
      "**\n",
      "*\n"
     ]
    }
   ],
   "source": [
    "mylist = [1,2,3,4,5,4,3,2,1]\n",
    "\n",
    "for i in mylist:\n",
    "    j = i\n",
    "    while j != 0 :\n",
    "        print(\"*\",end=\"\")\n",
    "        j = j - 1\n",
    "    print(\"\")\n"
   ]
  },
  {
   "cell_type": "code",
   "execution_count": 7,
   "metadata": {},
   "outputs": [
    {
     "name": "stdout",
     "output_type": "stream",
     "text": [
      "Enter a word Hello\n",
      "Reversed word :olleH\n"
     ]
    }
   ],
   "source": [
    "inputstr = input(\"Enter a word \")\n",
    "\n",
    "print(\"Reversed word :\"+inputstr[::-1])"
   ]
  },
  {
   "cell_type": "code",
   "execution_count": 13,
   "metadata": {},
   "outputs": [
    {
     "name": "stdout",
     "output_type": "stream",
     "text": [
      "WE, THE PEOPLE OF INDIA,\n",
      "\t having solemnly resolved to constitute India into a SOVEREIGN, !\n",
      "\t\t SOCIALIST, SECULAR, DEMOCRATIC REPUBLIC\n",
      "\t\t  and to secure to all its citizens\n"
     ]
    }
   ],
   "source": [
    "print(\"WE, THE PEOPLE OF INDIA,\"+\"\\n\\t having solemnly resolved to constitute India into a SOVEREIGN, !\"+\"\\n\\t\\t SOCIALIST, SECULAR, DEMOCRATIC REPUBLIC\"+\"\\n\\t\\t  and to secure to all its citizens\")"
   ]
  },
  {
   "cell_type": "code",
   "execution_count": null,
   "metadata": {},
   "outputs": [],
   "source": []
  }
 ],
 "metadata": {
  "kernelspec": {
   "display_name": "Python 3",
   "language": "python",
   "name": "python3"
  },
  "language_info": {
   "codemirror_mode": {
    "name": "ipython",
    "version": 3
   },
   "file_extension": ".py",
   "mimetype": "text/x-python",
   "name": "python",
   "nbconvert_exporter": "python",
   "pygments_lexer": "ipython3",
   "version": "3.7.6"
  }
 },
 "nbformat": 4,
 "nbformat_minor": 4
}
